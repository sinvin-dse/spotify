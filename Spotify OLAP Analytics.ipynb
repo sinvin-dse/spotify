{
 "cells": [
  {
   "cell_type": "markdown",
   "metadata": {
    "application/vnd.databricks.v1+cell": {
     "cellMetadata": {
      "byteLimit": 2048000,
      "rowLimit": 10000
     },
     "inputWidgets": {},
     "nuid": "ab2c3c38-08de-4e87-a052-61f893c7ed99",
     "showTitle": false,
     "title": ""
    }
   },
   "source": [
    "## Import Libraries"
   ]
  },
  {
   "cell_type": "code",
   "execution_count": 0,
   "metadata": {
    "application/vnd.databricks.v1+cell": {
     "cellMetadata": {
      "byteLimit": 2048000,
      "rowLimit": 10000
     },
     "inputWidgets": {},
     "nuid": "4c3eea9a-8362-4e73-bed2-5bd6f8e2c283",
     "showTitle": false,
     "title": ""
    }
   },
   "outputs": [],
   "source": [
    "from pyspark.sql import SparkSession\n",
    "import pyspark.sql.functions as func"
   ]
  },
  {
   "cell_type": "markdown",
   "metadata": {
    "application/vnd.databricks.v1+cell": {
     "cellMetadata": {
      "byteLimit": 2048000,
      "rowLimit": 10000
     },
     "inputWidgets": {},
     "nuid": "d24d09cd-ca8b-4f5c-801c-cd18ffa8a3f0",
     "showTitle": false,
     "title": ""
    }
   },
   "source": [
    "## Create Spark Session"
   ]
  },
  {
   "cell_type": "code",
   "execution_count": 0,
   "metadata": {
    "application/vnd.databricks.v1+cell": {
     "cellMetadata": {
      "byteLimit": 2048000,
      "rowLimit": 10000
     },
     "inputWidgets": {},
     "nuid": "8aee9e12-b730-4e77-ac7d-da557493e519",
     "showTitle": false,
     "title": ""
    }
   },
   "outputs": [],
   "source": [
    "# Create a SparkSession\n",
    "spark = SparkSession.builder \\\n",
    "    .appName(\"OLAP Analytics Queries\") \\\n",
    "    .getOrCreate()"
   ]
  },
  {
   "cell_type": "markdown",
   "metadata": {
    "application/vnd.databricks.v1+cell": {
     "cellMetadata": {
      "byteLimit": 2048000,
      "rowLimit": 10000
     },
     "inputWidgets": {},
     "nuid": "d2658aab-f8a5-4a65-aa1f-0934f753366d",
     "showTitle": false,
     "title": ""
    }
   },
   "source": [
    "## Track details group by genre with the highest popularity"
   ]
  },
  {
   "cell_type": "code",
   "execution_count": 0,
   "metadata": {
    "application/vnd.databricks.v1+cell": {
     "cellMetadata": {
      "byteLimit": 2048000,
      "rowLimit": 10000
     },
     "inputWidgets": {},
     "nuid": "dbee6ce9-04ea-4ef7-b0ea-fdfc921185bb",
     "showTitle": false,
     "title": ""
    }
   },
   "outputs": [
    {
     "output_type": "display_data",
     "data": {
      "text/html": [
       "<style scoped>\n",
       "  .table-result-container {\n",
       "    max-height: 300px;\n",
       "    overflow: auto;\n",
       "  }\n",
       "  table, th, td {\n",
       "    border: 1px solid black;\n",
       "    border-collapse: collapse;\n",
       "  }\n",
       "  th, td {\n",
       "    padding: 5px;\n",
       "  }\n",
       "  th {\n",
       "    text-align: left;\n",
       "  }\n",
       "</style><div class='table-result-container'><table class='table-result'><thead style='background-color: white'><tr><th>track_id</th><th>track_name</th><th>artists</th><th>album_name</th><th>track_genre</th></tr></thead><tbody><tr><td>5vjLSffimiIP26QG5WcN2K</td><td>Hold On</td><td>Chord Overstreet</td><td>Hold On</td><td>acoustic</td></tr><tr><td>0rnDmgcZvn9WPsOPqHbt16</td><td>Ojah Awake</td><td>Osibisa</td><td>Ojah Awake</td><td>afrobeat</td></tr><tr><td>2QjOHCTQ1Jl3zawyYOpxh6</td><td>Sweater Weather</td><td>The Neighbourhood</td><td>I Love You.</td><td>alt-rock</td></tr><tr><td>2QjOHCTQ1Jl3zawyYOpxh6</td><td>Sweater Weather</td><td>The Neighbourhood</td><td>I Love You.</td><td>alternative</td></tr><tr><td>63FZq6Nbam9PT3YoRphYTb</td><td>One For Vulnerability</td><td>Project AER;v i v</td><td>How Are You? I'm Okay</td><td>ambient</td></tr><tr><td>3khEEPRyBeOUabbmOPJzAG</td><td>KICK BACK</td><td>Kenshi Yonezu</td><td>KICK BACK</td><td>anime</td></tr><tr><td>3rjbECiejTVvyYav4pTeRN</td><td>A Celebration For The Death Of Man... (2016 - Remaster)</td><td>Agalloch</td><td>The Mantle</td><td>black-metal</td></tr><tr><td>11TmWrHkxwtVcCtEdAXjJA</td><td>Daylight</td><td>Watchhouse</td><td>Such Jubilee</td><td>bluegrass</td></tr><tr><td>1oAM55oTaAwYWxH2jNISgy</td><td>Da</td><td>Salif Keita</td><td>Africa Rising Vol.2</td><td>blues</td></tr><tr><td>6GomT970rCOkKAyyrwJeZi</td><td>Move Your Body</td><td>Öwnboss;Sevek</td><td>Move Your Body</td><td>brazil</td></tr><tr><td>7edi99QnXp4tfzVDkRmJCm</td><td>Boats N Hoezz - Original Mix</td><td>OnDaMiKe</td><td>Boats N Hoezz</td><td>breakbeat</td></tr><tr><td>0j5pajJcigjdwO4c8ZS19b</td><td>Sugar Man</td><td>Paolo Nutini</td><td>Just Best Covers</td><td>british</td></tr><tr><td>172oAbLGpgeCsukno7oBRe</td><td>風雨不改 (電影《阿媽有咗第二個》主題曲)</td><td>Keung To</td><td>風雨不改 (電影《阿媽有咗第二個》主題曲)</td><td>cantopop</td></tr><tr><td>7d6LFeAUDkppWAEKE8gFQd</td><td>It’s Alright (feat. Paris Brightledge) - Radio Edit</td><td>Sterling Void</td><td>It’s Alright (feat. Paris Brightledge)</td><td>chicago-house</td></tr><tr><td>36xdRrXlY5PNLKEciOGWTg</td><td>Watermelon Meow Meow</td><td>Imagination Movers</td><td>Diversión para los peques</td><td>children</td></tr><tr><td>3JvKfv6T31zO0ini8iNItO</td><td>Another Love</td><td>Tom Odell</td><td>Long Way Down (Deluxe)</td><td>chill</td></tr><tr><td>1SZp7sIqzHHh1YMaMu8FL2</td><td>12 Variations on an Allegretto in B Flat, K.500: 11. VariatiIon X</td><td>Wolfgang Amadeus Mozart;Danielle Laval</td><td>Mozart - A Classical Dawn</td><td>classical</td></tr><tr><td>2vXKRlJBXyOcvZYTdNeckS</td><td>Lost in the Fire (feat. The Weeknd)</td><td>Gesaffelstein;The Weeknd</td><td>Hyperion</td><td>club</td></tr><tr><td>2hhFpD32iXUd4GaCu6T4wn</td><td>Everyday Normal Guy 2</td><td>Jon Lajoie</td><td>You Want Some of This?</td><td>comedy</td></tr><tr><td>3WMj8moIAXJhHsyLaqIIHI</td><td>Something in the Orange</td><td>Zach Bryan</td><td>Something in the Orange</td><td>country</td></tr><tr><td>4uUG5RXrOk84mYEfFvj3cK</td><td>I'm Good (Blue)</td><td>David Guetta;Bebe Rexha</td><td>I'm Good (Blue)</td><td>dance</td></tr><tr><td>48QmG1dfvMuYLxMPt7KSRA</td><td>No Lie</td><td>Sean Paul;Dua Lipa</td><td>Mad Love The Prequel</td><td>dancehall</td></tr><tr><td>06WUUNf7q18NZfjIsQFsfa</td><td>Delusions of Saviour</td><td>Slayer</td><td>Repentless</td><td>death-metal</td></tr><tr><td>4zN21mbAuaD0WqtmaTZZeP</td><td>Ferrari</td><td>James Hype;Miggy Dela Rosa</td><td>Ferrari</td><td>deep-house</td></tr><tr><td>6JcdTZ63O5MN3FNxjsRiBO</td><td>Toxic Broadcast</td><td>Underground Resistance</td><td>Electronic Warfare 2.0</td><td>detroit-techno</td></tr><tr><td>7sf0zAvyBwviecbfzmjqBv</td><td>More Than A Woman - From \"Saturday Night Fever\" Soundtrack</td><td>Bee Gees</td><td>Disco Boogie Mood</td><td>disco</td></tr><tr><td>5k3U0OGYBccHdKJJu3HrUN</td><td>Hakuna Matata - From \"The Lion King\"/Soundtrack</td><td>Nathan Lane;Ernie Sabella;Jason Weaver;Joseph Williams</td><td>The Lion King</td><td>disney</td></tr><tr><td>3xfqgp1fUdnva4GWeOFHxU</td><td>Close Your Eyes</td><td>Wilkinson;iiola</td><td>Cognition</td><td>drum-and-bass</td></tr><tr><td>7xnElMPFCmSlMJ0AY2hnxc</td><td>Dead To Me - Slow + Reverb</td><td>Whales;Fraxo;Lox Chatterbox</td><td>Dead To Me Slow + Reverb</td><td>dub</td></tr><tr><td>7xnElMPFCmSlMJ0AY2hnxc</td><td>Dead To Me - Slow + Reverb</td><td>Whales;Fraxo;Lox Chatterbox</td><td>Dead To Me Slow + Reverb</td><td>dubstep</td></tr><tr><td>4uUG5RXrOk84mYEfFvj3cK</td><td>I'm Good (Blue)</td><td>David Guetta;Bebe Rexha</td><td>I'm Good (Blue)</td><td>edm</td></tr><tr><td>7ef4DlsgrMEH11cDZd32M6</td><td>One Kiss (with Dua Lipa)</td><td>Calvin Harris;Dua Lipa</td><td>One Kiss (with Dua Lipa)</td><td>electro</td></tr><tr><td>0lYBSQXN6rCTvUZvg9S0lU</td><td>Let Me Love You</td><td>DJ Snake;Justin Bieber</td><td>Encore</td><td>electronic</td></tr><tr><td>5TXDeTFVRVY7Cvt0Dw4vWW</td><td>Revenge</td><td>XXXTENTACION</td><td>17</td><td>emo</td></tr><tr><td>1Fid2jjqsHViMX6xNH70hE</td><td>Atlantis</td><td>Seafret</td><td>Tell Me It's Real (Expanded Edition)</td><td>folk</td></tr><tr><td>0YIn7WsGky3S0ugXcRaBbR</td><td>Amante, Amiga e Namorada - Ao Vivo</td><td>Max e Luan</td><td>Esqueminha (Ao Vivo)</td><td>forro</td></tr><tr><td>5VThMxtZZTYgCRTifW6q4X</td><td>Alou Maye</td><td>Tiken Jah Fakoly;Saramba Kouyate</td><td>Best Afrodance Tunes</td><td>french</td></tr><tr><td>1DIXPcTDzTj8ZMHt3PDt8p</td><td>Gangsta's Paradise</td><td>Coolio;L.V.</td><td>Gangsta's Paradise</td><td>funk</td></tr><tr><td>5XeFesFbtLpXzIVDNQP22n</td><td>I Wanna Be Yours</td><td>Arctic Monkeys</td><td>AM</td><td>garage</td></tr><tr><td>2actE8GVS9DyoXgScmF4HN</td><td>The Well-Tempered Clavier: Book 2: Fugue in D Major, BWV 874 (Arr. for String Quartet by Wolfgang Amadeus Mozart, KV 405)</td><td>Johann Sebastian Bach;Hagen Quartett</td><td>Mozart: A Night of Classics</td><td>german</td></tr><tr><td>4rQSLX4qMiUWL81hEQOuPY</td><td>Forever and Ever, Amen</td><td>Randy Travis</td><td>Top 10</td><td>gospel</td></tr><tr><td>0ZNYGrmcehorhh9JOeg5Iv</td><td>Stay Alive</td><td>José González</td><td>Stay Alive (From The Secret Life Of Walter Mitty)</td><td>goth</td></tr><tr><td>6U8MMFDKcM5qMjyAbwWkEi</td><td>Beating a Dead Horse</td><td>Ed Gein</td><td>It's A Shame...</td><td>grindcore</td></tr><tr><td>4zN21mbAuaD0WqtmaTZZeP</td><td>Ferrari</td><td>James Hype;Miggy Dela Rosa</td><td>Ferrari</td><td>groove</td></tr><tr><td>66lWvfNt5DaPXPbuZLApUf</td><td>San Quentin</td><td>Nickelback</td><td>Those Days</td><td>grunge</td></tr><tr><td>63FZq6Nbam9PT3YoRphYTb</td><td>One For Vulnerability</td><td>Project AER;v i v</td><td>How Are You? I'm Okay</td><td>guitar</td></tr><tr><td>78kxTcc3TrOwHBIscjVBOM</td><td>There It Is - Original Mix</td><td>The Prophet</td><td>The Hardcore Archive Part 2 (1995 - 1996)</td><td>happy</td></tr><tr><td>2HZLXBOnaSRhXStMLrq9fD</td><td>Mary On A Cross</td><td>Ghost</td><td>Seven Inches Of Satanic Panic</td><td>hard-rock</td></tr><tr><td>7KwZNVEaqikRSBSpyhXK2j</td><td>Hypnotize - 2014 Remaster</td><td>The Notorious B.I.G.</td><td>Life After Death (2014 Remastered Edition)</td><td>hardcore</td></tr><tr><td>3qWAalyE3xI8OemAkZ44uS</td><td>I Can't Stand It - 4 Minute Mix</td><td>The Prophet</td><td>The Hardcore Archive Part 2 (1995 - 1996)</td><td>hardstyle</td></tr><tr><td>3V417nSM4Ilh0Tt5CqustV</td><td>Yggdrasil</td><td>Brothers of Metal</td><td>Prophecy of Ragnarök</td><td>heavy-metal</td></tr><tr><td>2tTmW7RDtMQtBk7m2rYeSw</td><td>Quevedo: Bzrp Music Sessions, Vol. 52</td><td>Bizarrap;Quevedo</td><td>Quevedo: Bzrp Music Sessions, Vol. 52</td><td>hip-hop</td></tr><tr><td>37BsVvcowpcSncSooQPVCg</td><td>Damn Love</td><td>The Dirt Drifters</td><td>Origins (Demos, Vol. 1)</td><td>honky-tonk</td></tr><tr><td>4zN21mbAuaD0WqtmaTZZeP</td><td>Ferrari</td><td>James Hype;Miggy Dela Rosa</td><td>Ferrari</td><td>house</td></tr><tr><td>0yQJdXUI1sAGgMapnpqrGi</td><td>Kannamma</td><td>Praveen;Rohan Prakash;Khadhijah Shareef;Nishitha Menon;Arya Prakash</td><td>Golisoda 2 (Original Motion Picture Soundtrack)</td><td>idm</td></tr><tr><td>60mJ2TYMwhBG5OlzAvoPLb</td><td>Dancina Huchchu</td><td>Pritam;Nakash Aziz</td><td>Brahmastra (Kannada) [Original Motion Picture Soundtrack]</td><td>indian</td></tr><tr><td>5XeFesFbtLpXzIVDNQP22n</td><td>I Wanna Be Yours</td><td>Arctic Monkeys</td><td>AM</td><td>indie</td></tr><tr><td>02MWAaffLxlfxAUY7c5dvx</td><td>Heat Waves</td><td>Glass Animals</td><td>Dreamland (+ Bonus Levels)</td><td>indie-pop</td></tr><tr><td>2bPGTMB5sFfFYQ2YvSmup0</td><td>Deutschland</td><td>Rammstein</td><td>Rammstein</td><td>industrial</td></tr><tr><td>5GkpWNTA6Fb9v4VMjUBaDI</td><td>Interface</td><td>Alphaxone</td><td>Living in the Grayland</td><td>iranian</td></tr><tr><td>6MdqqkQ8sSC0WB4i8PyRuQ</td><td>No Diggity</td><td>Blackstreet;Dr. Dre;Queen Pen</td><td>Another Level</td><td>j-dance</td></tr><tr><td>7rU6Iebxzlvqy5t857bKFq</td><td>Plastic Love</td><td>Mariya Takeuchi</td><td>Expressions</td><td>j-idol</td></tr><tr><td>6Ojs2aTZv7yeHkZKJQx8UV</td><td>世界のつづき</td><td>Ado</td><td>J-Pop 輕旅行</td><td>j-pop</td></tr><tr><td>21nOSbeaQQbKDmqQWL9pZN</td><td>愛とか恋とか</td><td>Novelbright</td><td>J-Pop 輕旅行</td><td>j-rock</td></tr><tr><td>2grjqo0Frpf2okIBiifQKs</td><td>September</td><td>Earth, Wind & Fire</td><td>The Best Of Earth, Wind & Fire Vol. 1</td><td>jazz</td></tr><tr><td>2gYj9lubBorOPIVWsTXugG</td><td>After LIKE</td><td>IVE</td><td>After LIKE</td><td>k-pop</td></tr><tr><td>3S8k3BDiOqpAl4JRbjdzNx</td><td>Going on a Lion Hunt (Trap Remix)</td><td>Pj Panda</td><td>The New Nursery Rhymes, Vol. 2</td><td>kids</td></tr><tr><td>5ww2BF9slyYgNOk37BlC4u</td><td>La Bachata</td><td>Manuel Turizo</td><td>La Bachata</td><td>latin</td></tr><tr><td>5ww2BF9slyYgNOk37BlC4u</td><td>La Bachata</td><td>Manuel Turizo</td><td>La Bachata</td><td>latino</td></tr><tr><td>0MHiYjjcHNYM9KURa6NveF</td><td>Manavaalan Thug - From \"Thallumaala\"</td><td>Dabzee;SA</td><td>Manavaalan Thug (From \"Thallumaala\")</td><td>malay</td></tr><tr><td>72OVnXDzugvrCU25lMi9au</td><td>如果可以 - 電影\"月老\"主題曲</td><td>WeiBird</td><td>如果可以 (電影\"月老\"主題曲)</td><td>mandopop</td></tr><tr><td>66lWvfNt5DaPXPbuZLApUf</td><td>San Quentin</td><td>Nickelback</td><td>Those Days</td><td>metal</td></tr><tr><td>0WSa1sucoNRcEeULlZVQXj</td><td>Can You Feel My Heart</td><td>Bring Me The Horizon</td><td>Sempiternal (Expanded Edition)</td><td>metalcore</td></tr><tr><td>6UpWvIIiycdBPMSjGJHNEg</td><td>Prospect (feat. ÄTNA) (Carl Craig Late Island Mix)</td><td>Solomun;ÄTNA;Carl Craig</td><td>Nobody Is Not Loved, Remixes, Pt. 7</td><td>minimal-techno</td></tr><tr><td>6g2BiiVQqY5v1S4HIrM54F</td><td>Tuyo (Narcos Theme) [Extended Version] - A Netflix Original Series Soundtrack</td><td>Rodrigo Amarante</td><td>Tuyo (Narcos Theme) [Extended Version] [A Netflix Original Series Soundtrack]</td><td>mpb</td></tr><tr><td>2agBDIr9MYDUducQPC1sFU</td><td>River Flows In You</td><td>Yiruma</td><td>Yiruma 2nd Album 'First Love' (The Original & the Very First Recording)</td><td>new-age</td></tr><tr><td>7zrpoAJte9o12TzawqgdD0</td><td>Con te partirò</td><td>Andrea Bocelli</td><td>Bocelli (Remastered)</td><td>opera</td></tr><tr><td>3IAfUEeaXRX9s9UdKOJrFI</td><td>Envolver</td><td>Anitta</td><td>Envolver</td><td>pagode</td></tr><tr><td>3ujiq7yK4Uan5z4876fHLK</td><td>Layla</td><td>DJ Robin;Schürze</td><td>Layla</td><td>party</td></tr><tr><td>4h9wh7iOZ0GGn8QVp4RAOB</td><td>I Ain't Worried</td><td>OneRepublic</td><td>I Ain’t Worried (Music From The Motion Picture \"Top Gun: Maverick\")</td><td>piano</td></tr><tr><td>4uUG5RXrOk84mYEfFvj3cK</td><td>I'm Good (Blue)</td><td>David Guetta;Bebe Rexha</td><td>I'm Good (Blue)</td><td>pop</td></tr><tr><td>6TQS7URegxmcb8tTNpoXzi</td><td>Megham Karukatha (From \"Thiruchitrambalam\")</td><td>Dhanush;Anirudh Ravichander</td><td>Megham Karukatha (From \"Thiruchitrambalam\")</td><td>pop-film</td></tr><tr><td>6GG73Jik4jUlQCkKg9JuGO</td><td>The Middle</td><td>Jimmy Eat World</td><td>Bleed American</td><td>power-pop</td></tr><tr><td>7ef4DlsgrMEH11cDZd32M6</td><td>One Kiss (with Dua Lipa)</td><td>Calvin Harris;Dua Lipa</td><td>One Kiss (with Dua Lipa)</td><td>progressive-house</td></tr><tr><td>6dGnYIeXmHdcikdzNNDMm2</td><td>Here Comes The Sun - Remastered 2009</td><td>The Beatles</td><td>Abbey Road (Remastered)</td><td>psych-rock</td></tr><tr><td>7EkWXAI1wn8Ii883ecd9xr</td><td>Freaks</td><td>Surf Curse</td><td>Freaks</td><td>punk</td></tr><tr><td>2m1hi0nfMR9vdGC8UcrnwU</td><td>All The Small Things</td><td>blink-182</td><td>Enema Of The State</td><td>punk-rock</td></tr><tr><td>75FEaRjZTKLhTrFGsfMUXR</td><td>Running Up That Hill (A Deal With God)</td><td>Kate Bush</td><td>Hounds Of Love</td><td>r-n-b</td></tr><tr><td>5ww2BF9slyYgNOk37BlC4u</td><td>La Bachata</td><td>Manuel Turizo</td><td>La Bachata</td><td>reggae</td></tr><tr><td>5ww2BF9slyYgNOk37BlC4u</td><td>La Bachata</td><td>Manuel Turizo</td><td>La Bachata</td><td>reggaeton</td></tr><tr><td>4h9wh7iOZ0GGn8QVp4RAOB</td><td>I Ain't Worried</td><td>OneRepublic</td><td>I Ain’t Worried (Music From The Motion Picture \"Top Gun: Maverick\")</td><td>rock</td></tr><tr><td>44AyOl4qVkzS48vBsbNXaC</td><td>Can't Help Falling in Love</td><td>Elvis Presley</td><td>Blue Hawaii</td><td>rock-n-roll</td></tr><tr><td>44AyOl4qVkzS48vBsbNXaC</td><td>Can't Help Falling in Love</td><td>Elvis Presley</td><td>Blue Hawaii</td><td>rockabilly</td></tr><tr><td>0h0dIAeZqoKwYjFNGvnRVV</td><td>Случайный вальс</td><td>Oleg Pogudin</td><td>От моей негасимой любви... Песни военных лет</td><td>romance</td></tr><tr><td>4VgM8bWHJVdsUfS416FJ2L</td><td>weak lofi</td><td>creamy;untrusted;11:11 Music Group</td><td>weak lofi</td><td>sad</td></tr><tr><td>6srBp90EwADKAF7PorGiUC</td><td>Virgen</td><td>Adolescent's Orquesta</td><td>Ahora Más Que Nunca</td><td>salsa</td></tr><tr><td>3898C4AbdbptwYet6547e5</td><td>The Girl From Ipanema</td><td>Stan Getz;João Gilberto;Astrud Gilberto</td><td>The Girl From Ipanema - The Bossa Nova Years</td><td>samba</td></tr><tr><td>2vvWv4e4PfXCUzsL9CuGzi</td><td>Golaço (Ao Vivo)</td><td>Turma do Pagode;Vou pro Sereno</td><td>Turma no Quintal EP4 (Ao Vivo)</td><td>sertanejo</td></tr><tr><td>0Gl5s8IhMmQE5YQwM8Qx1J</td><td>Never Enough</td><td>Loren Allred</td><td>The Greatest Showman (Original Motion Picture Soundtrack)</td><td>show-tunes</td></tr><tr><td>75FEaRjZTKLhTrFGsfMUXR</td><td>Running Up That Hill (A Deal With God)</td><td>Kate Bush</td><td>Hounds Of Love</td><td>singer-songwriter</td></tr><tr><td>6TfBA04WJ3X1d1wXhaCFVT</td><td>You're Gonna Go Far, Kid</td><td>The Offspring</td><td>Rise And Fall, Rage And Grace</td><td>ska</td></tr><tr><td>2bRKxuH1o7pTmb1y4GfdEc</td><td>Clean White Noise - Loopable with no fade</td><td>White Noise Baby Sleep;White Noise for Babies</td><td>Best White Noise for Baby Sleep - Loopable with No Fade</td><td>sleep</td></tr><tr><td>75FEaRjZTKLhTrFGsfMUXR</td><td>Running Up That Hill (A Deal With God)</td><td>Kate Bush</td><td>Hounds Of Love</td><td>songwriter</td></tr><tr><td>2TktkzfozZifbQhXjT6I33</td><td>Evergreen (You Didn’t Deserve Me At All)</td><td>Omar Apollo</td><td>Ivory</td><td>soul</td></tr><tr><td>3fjN3y5x4hN53rykAN2LHQ</td><td>cómo dormiste?</td><td>Rels B</td><td>cómo dormiste?</td><td>spanish</td></tr><tr><td>5p4CTFlVzdpsmO4YJyZH6N</td><td>Inner Locket</td><td>Wibke Komi</td><td>Inner Locket</td><td>study</td></tr><tr><td>0GjEhVFGZW8afUYGChu3Rr</td><td>Dancing Queen</td><td>ABBA</td><td>Arrival</td><td>swedish</td></tr><tr><td>4RvWPyQ5RL0ao9LPZeSouE</td><td>Everybody Wants To Rule The World</td><td>Tears For Fears</td><td>Songs From The Big Chair (Super Deluxe Edition)</td><td>synth-pop</td></tr><tr><td>1jSiCrX3a7ie9Okck6lL1R</td><td>Por Una Cabeza</td><td>Carlos Gardel</td><td>The Very Best</td><td>tango</td></tr><tr><td>6UpWvIIiycdBPMSjGJHNEg</td><td>Prospect (feat. ÄTNA) (Carl Craig Late Island Mix)</td><td>Solomun;ÄTNA;Carl Craig</td><td>Nobody Is Not Loved, Remixes, Pt. 7</td><td>techno</td></tr><tr><td>18asYwWugKjjsihZ0YvRxO</td><td>The Motto</td><td>Tiësto;Ava Max</td><td>The Motto</td><td>trance</td></tr><tr><td>5LbyynvLKEoD8gyenfauoi</td><td>History</td><td>Groove Armada</td><td>Black Light</td><td>trip-hop</td></tr><tr><td>10n66m41IGjA2ZulKPK7Ew</td><td>Seni Dert Etmeler</td><td>Madrigal</td><td>Seni Dert Etmeler</td><td>turkish</td></tr><tr><td>0rH0mprtecH3grD9HFM5AD</td><td>Reckless Love</td><td>Cory Asbury</td><td>Reckless Love</td><td>world-music</td></tr></tbody></table></div>"
      ]
     },
     "metadata": {
      "application/vnd.databricks.v1+output": {
       "addedWidgets": {},
       "aggData": [],
       "aggError": "",
       "aggOverflow": false,
       "aggSchema": [],
       "aggSeriesLimitReached": false,
       "aggType": "",
       "arguments": {},
       "columnCustomDisplayInfos": {},
       "data": [
        [
         "5vjLSffimiIP26QG5WcN2K",
         "Hold On",
         "Chord Overstreet",
         "Hold On",
         "acoustic"
        ],
        [
         "0rnDmgcZvn9WPsOPqHbt16",
         "Ojah Awake",
         "Osibisa",
         "Ojah Awake",
         "afrobeat"
        ],
        [
         "2QjOHCTQ1Jl3zawyYOpxh6",
         "Sweater Weather",
         "The Neighbourhood",
         "I Love You.",
         "alt-rock"
        ],
        [
         "2QjOHCTQ1Jl3zawyYOpxh6",
         "Sweater Weather",
         "The Neighbourhood",
         "I Love You.",
         "alternative"
        ],
        [
         "63FZq6Nbam9PT3YoRphYTb",
         "One For Vulnerability",
         "Project AER;v i v",
         "How Are You? I'm Okay",
         "ambient"
        ],
        [
         "3khEEPRyBeOUabbmOPJzAG",
         "KICK BACK",
         "Kenshi Yonezu",
         "KICK BACK",
         "anime"
        ],
        [
         "3rjbECiejTVvyYav4pTeRN",
         "A Celebration For The Death Of Man... (2016 - Remaster)",
         "Agalloch",
         "The Mantle",
         "black-metal"
        ],
        [
         "11TmWrHkxwtVcCtEdAXjJA",
         "Daylight",
         "Watchhouse",
         "Such Jubilee",
         "bluegrass"
        ],
        [
         "1oAM55oTaAwYWxH2jNISgy",
         "Da",
         "Salif Keita",
         "Africa Rising Vol.2",
         "blues"
        ],
        [
         "6GomT970rCOkKAyyrwJeZi",
         "Move Your Body",
         "Öwnboss;Sevek",
         "Move Your Body",
         "brazil"
        ],
        [
         "7edi99QnXp4tfzVDkRmJCm",
         "Boats N Hoezz - Original Mix",
         "OnDaMiKe",
         "Boats N Hoezz",
         "breakbeat"
        ],
        [
         "0j5pajJcigjdwO4c8ZS19b",
         "Sugar Man",
         "Paolo Nutini",
         "Just Best Covers",
         "british"
        ],
        [
         "172oAbLGpgeCsukno7oBRe",
         "風雨不改 (電影《阿媽有咗第二個》主題曲)",
         "Keung To",
         "風雨不改 (電影《阿媽有咗第二個》主題曲)",
         "cantopop"
        ],
        [
         "7d6LFeAUDkppWAEKE8gFQd",
         "It’s Alright (feat. Paris Brightledge) - Radio Edit",
         "Sterling Void",
         "It’s Alright (feat. Paris Brightledge)",
         "chicago-house"
        ],
        [
         "36xdRrXlY5PNLKEciOGWTg",
         "Watermelon Meow Meow",
         "Imagination Movers",
         "Diversión para los peques",
         "children"
        ],
        [
         "3JvKfv6T31zO0ini8iNItO",
         "Another Love",
         "Tom Odell",
         "Long Way Down (Deluxe)",
         "chill"
        ],
        [
         "1SZp7sIqzHHh1YMaMu8FL2",
         "12 Variations on an Allegretto in B Flat, K.500: 11. VariatiIon X",
         "Wolfgang Amadeus Mozart;Danielle Laval",
         "Mozart - A Classical Dawn",
         "classical"
        ],
        [
         "2vXKRlJBXyOcvZYTdNeckS",
         "Lost in the Fire (feat. The Weeknd)",
         "Gesaffelstein;The Weeknd",
         "Hyperion",
         "club"
        ],
        [
         "2hhFpD32iXUd4GaCu6T4wn",
         "Everyday Normal Guy 2",
         "Jon Lajoie",
         "You Want Some of This?",
         "comedy"
        ],
        [
         "3WMj8moIAXJhHsyLaqIIHI",
         "Something in the Orange",
         "Zach Bryan",
         "Something in the Orange",
         "country"
        ],
        [
         "4uUG5RXrOk84mYEfFvj3cK",
         "I'm Good (Blue)",
         "David Guetta;Bebe Rexha",
         "I'm Good (Blue)",
         "dance"
        ],
        [
         "48QmG1dfvMuYLxMPt7KSRA",
         "No Lie",
         "Sean Paul;Dua Lipa",
         "Mad Love The Prequel",
         "dancehall"
        ],
        [
         "06WUUNf7q18NZfjIsQFsfa",
         "Delusions of Saviour",
         "Slayer",
         "Repentless",
         "death-metal"
        ],
        [
         "4zN21mbAuaD0WqtmaTZZeP",
         "Ferrari",
         "James Hype;Miggy Dela Rosa",
         "Ferrari",
         "deep-house"
        ],
        [
         "6JcdTZ63O5MN3FNxjsRiBO",
         "Toxic Broadcast",
         "Underground Resistance",
         "Electronic Warfare 2.0",
         "detroit-techno"
        ],
        [
         "7sf0zAvyBwviecbfzmjqBv",
         "More Than A Woman - From \"Saturday Night Fever\" Soundtrack",
         "Bee Gees",
         "Disco Boogie Mood",
         "disco"
        ],
        [
         "5k3U0OGYBccHdKJJu3HrUN",
         "Hakuna Matata - From \"The Lion King\"/Soundtrack",
         "Nathan Lane;Ernie Sabella;Jason Weaver;Joseph Williams",
         "The Lion King",
         "disney"
        ],
        [
         "3xfqgp1fUdnva4GWeOFHxU",
         "Close Your Eyes",
         "Wilkinson;iiola",
         "Cognition",
         "drum-and-bass"
        ],
        [
         "7xnElMPFCmSlMJ0AY2hnxc",
         "Dead To Me - Slow + Reverb",
         "Whales;Fraxo;Lox Chatterbox",
         "Dead To Me Slow + Reverb",
         "dub"
        ],
        [
         "7xnElMPFCmSlMJ0AY2hnxc",
         "Dead To Me - Slow + Reverb",
         "Whales;Fraxo;Lox Chatterbox",
         "Dead To Me Slow + Reverb",
         "dubstep"
        ],
        [
         "4uUG5RXrOk84mYEfFvj3cK",
         "I'm Good (Blue)",
         "David Guetta;Bebe Rexha",
         "I'm Good (Blue)",
         "edm"
        ],
        [
         "7ef4DlsgrMEH11cDZd32M6",
         "One Kiss (with Dua Lipa)",
         "Calvin Harris;Dua Lipa",
         "One Kiss (with Dua Lipa)",
         "electro"
        ],
        [
         "0lYBSQXN6rCTvUZvg9S0lU",
         "Let Me Love You",
         "DJ Snake;Justin Bieber",
         "Encore",
         "electronic"
        ],
        [
         "5TXDeTFVRVY7Cvt0Dw4vWW",
         "Revenge",
         "XXXTENTACION",
         "17",
         "emo"
        ],
        [
         "1Fid2jjqsHViMX6xNH70hE",
         "Atlantis",
         "Seafret",
         "Tell Me It's Real (Expanded Edition)",
         "folk"
        ],
        [
         "0YIn7WsGky3S0ugXcRaBbR",
         "Amante, Amiga e Namorada - Ao Vivo",
         "Max e Luan",
         "Esqueminha (Ao Vivo)",
         "forro"
        ],
        [
         "5VThMxtZZTYgCRTifW6q4X",
         "Alou Maye",
         "Tiken Jah Fakoly;Saramba Kouyate",
         "Best Afrodance Tunes",
         "french"
        ],
        [
         "1DIXPcTDzTj8ZMHt3PDt8p",
         "Gangsta's Paradise",
         "Coolio;L.V.",
         "Gangsta's Paradise",
         "funk"
        ],
        [
         "5XeFesFbtLpXzIVDNQP22n",
         "I Wanna Be Yours",
         "Arctic Monkeys",
         "AM",
         "garage"
        ],
        [
         "2actE8GVS9DyoXgScmF4HN",
         "The Well-Tempered Clavier: Book 2: Fugue in D Major, BWV 874 (Arr. for String Quartet by Wolfgang Amadeus Mozart, KV 405)",
         "Johann Sebastian Bach;Hagen Quartett",
         "Mozart: A Night of Classics",
         "german"
        ],
        [
         "4rQSLX4qMiUWL81hEQOuPY",
         "Forever and Ever, Amen",
         "Randy Travis",
         "Top 10",
         "gospel"
        ],
        [
         "0ZNYGrmcehorhh9JOeg5Iv",
         "Stay Alive",
         "José González",
         "Stay Alive (From The Secret Life Of Walter Mitty)",
         "goth"
        ],
        [
         "6U8MMFDKcM5qMjyAbwWkEi",
         "Beating a Dead Horse",
         "Ed Gein",
         "It's A Shame...",
         "grindcore"
        ],
        [
         "4zN21mbAuaD0WqtmaTZZeP",
         "Ferrari",
         "James Hype;Miggy Dela Rosa",
         "Ferrari",
         "groove"
        ],
        [
         "66lWvfNt5DaPXPbuZLApUf",
         "San Quentin",
         "Nickelback",
         "Those Days",
         "grunge"
        ],
        [
         "63FZq6Nbam9PT3YoRphYTb",
         "One For Vulnerability",
         "Project AER;v i v",
         "How Are You? I'm Okay",
         "guitar"
        ],
        [
         "78kxTcc3TrOwHBIscjVBOM",
         "There It Is - Original Mix",
         "The Prophet",
         "The Hardcore Archive Part 2 (1995 - 1996)",
         "happy"
        ],
        [
         "2HZLXBOnaSRhXStMLrq9fD",
         "Mary On A Cross",
         "Ghost",
         "Seven Inches Of Satanic Panic",
         "hard-rock"
        ],
        [
         "7KwZNVEaqikRSBSpyhXK2j",
         "Hypnotize - 2014 Remaster",
         "The Notorious B.I.G.",
         "Life After Death (2014 Remastered Edition)",
         "hardcore"
        ],
        [
         "3qWAalyE3xI8OemAkZ44uS",
         "I Can't Stand It - 4 Minute Mix",
         "The Prophet",
         "The Hardcore Archive Part 2 (1995 - 1996)",
         "hardstyle"
        ],
        [
         "3V417nSM4Ilh0Tt5CqustV",
         "Yggdrasil",
         "Brothers of Metal",
         "Prophecy of Ragnarök",
         "heavy-metal"
        ],
        [
         "2tTmW7RDtMQtBk7m2rYeSw",
         "Quevedo: Bzrp Music Sessions, Vol. 52",
         "Bizarrap;Quevedo",
         "Quevedo: Bzrp Music Sessions, Vol. 52",
         "hip-hop"
        ],
        [
         "37BsVvcowpcSncSooQPVCg",
         "Damn Love",
         "The Dirt Drifters",
         "Origins (Demos, Vol. 1)",
         "honky-tonk"
        ],
        [
         "4zN21mbAuaD0WqtmaTZZeP",
         "Ferrari",
         "James Hype;Miggy Dela Rosa",
         "Ferrari",
         "house"
        ],
        [
         "0yQJdXUI1sAGgMapnpqrGi",
         "Kannamma",
         "Praveen;Rohan Prakash;Khadhijah Shareef;Nishitha Menon;Arya Prakash",
         "Golisoda 2 (Original Motion Picture Soundtrack)",
         "idm"
        ],
        [
         "60mJ2TYMwhBG5OlzAvoPLb",
         "Dancina Huchchu",
         "Pritam;Nakash Aziz",
         "Brahmastra (Kannada) [Original Motion Picture Soundtrack]",
         "indian"
        ],
        [
         "5XeFesFbtLpXzIVDNQP22n",
         "I Wanna Be Yours",
         "Arctic Monkeys",
         "AM",
         "indie"
        ],
        [
         "02MWAaffLxlfxAUY7c5dvx",
         "Heat Waves",
         "Glass Animals",
         "Dreamland (+ Bonus Levels)",
         "indie-pop"
        ],
        [
         "2bPGTMB5sFfFYQ2YvSmup0",
         "Deutschland",
         "Rammstein",
         "Rammstein",
         "industrial"
        ],
        [
         "5GkpWNTA6Fb9v4VMjUBaDI",
         "Interface",
         "Alphaxone",
         "Living in the Grayland",
         "iranian"
        ],
        [
         "6MdqqkQ8sSC0WB4i8PyRuQ",
         "No Diggity",
         "Blackstreet;Dr. Dre;Queen Pen",
         "Another Level",
         "j-dance"
        ],
        [
         "7rU6Iebxzlvqy5t857bKFq",
         "Plastic Love",
         "Mariya Takeuchi",
         "Expressions",
         "j-idol"
        ],
        [
         "6Ojs2aTZv7yeHkZKJQx8UV",
         "世界のつづき",
         "Ado",
         "J-Pop 輕旅行",
         "j-pop"
        ],
        [
         "21nOSbeaQQbKDmqQWL9pZN",
         "愛とか恋とか",
         "Novelbright",
         "J-Pop 輕旅行",
         "j-rock"
        ],
        [
         "2grjqo0Frpf2okIBiifQKs",
         "September",
         "Earth, Wind & Fire",
         "The Best Of Earth, Wind & Fire Vol. 1",
         "jazz"
        ],
        [
         "2gYj9lubBorOPIVWsTXugG",
         "After LIKE",
         "IVE",
         "After LIKE",
         "k-pop"
        ],
        [
         "3S8k3BDiOqpAl4JRbjdzNx",
         "Going on a Lion Hunt (Trap Remix)",
         "Pj Panda",
         "The New Nursery Rhymes, Vol. 2",
         "kids"
        ],
        [
         "5ww2BF9slyYgNOk37BlC4u",
         "La Bachata",
         "Manuel Turizo",
         "La Bachata",
         "latin"
        ],
        [
         "5ww2BF9slyYgNOk37BlC4u",
         "La Bachata",
         "Manuel Turizo",
         "La Bachata",
         "latino"
        ],
        [
         "0MHiYjjcHNYM9KURa6NveF",
         "Manavaalan Thug - From \"Thallumaala\"",
         "Dabzee;SA",
         "Manavaalan Thug (From \"Thallumaala\")",
         "malay"
        ],
        [
         "72OVnXDzugvrCU25lMi9au",
         "如果可以 - 電影\"月老\"主題曲",
         "WeiBird",
         "如果可以 (電影\"月老\"主題曲)",
         "mandopop"
        ],
        [
         "66lWvfNt5DaPXPbuZLApUf",
         "San Quentin",
         "Nickelback",
         "Those Days",
         "metal"
        ],
        [
         "0WSa1sucoNRcEeULlZVQXj",
         "Can You Feel My Heart",
         "Bring Me The Horizon",
         "Sempiternal (Expanded Edition)",
         "metalcore"
        ],
        [
         "6UpWvIIiycdBPMSjGJHNEg",
         "Prospect (feat. ÄTNA) (Carl Craig Late Island Mix)",
         "Solomun;ÄTNA;Carl Craig",
         "Nobody Is Not Loved, Remixes, Pt. 7",
         "minimal-techno"
        ],
        [
         "6g2BiiVQqY5v1S4HIrM54F",
         "Tuyo (Narcos Theme) [Extended Version] - A Netflix Original Series Soundtrack",
         "Rodrigo Amarante",
         "Tuyo (Narcos Theme) [Extended Version] [A Netflix Original Series Soundtrack]",
         "mpb"
        ],
        [
         "2agBDIr9MYDUducQPC1sFU",
         "River Flows In You",
         "Yiruma",
         "Yiruma 2nd Album 'First Love' (The Original & the Very First Recording)",
         "new-age"
        ],
        [
         "7zrpoAJte9o12TzawqgdD0",
         "Con te partirò",
         "Andrea Bocelli",
         "Bocelli (Remastered)",
         "opera"
        ],
        [
         "3IAfUEeaXRX9s9UdKOJrFI",
         "Envolver",
         "Anitta",
         "Envolver",
         "pagode"
        ],
        [
         "3ujiq7yK4Uan5z4876fHLK",
         "Layla",
         "DJ Robin;Schürze",
         "Layla",
         "party"
        ],
        [
         "4h9wh7iOZ0GGn8QVp4RAOB",
         "I Ain't Worried",
         "OneRepublic",
         "I Ain’t Worried (Music From The Motion Picture \"Top Gun: Maverick\")",
         "piano"
        ],
        [
         "4uUG5RXrOk84mYEfFvj3cK",
         "I'm Good (Blue)",
         "David Guetta;Bebe Rexha",
         "I'm Good (Blue)",
         "pop"
        ],
        [
         "6TQS7URegxmcb8tTNpoXzi",
         "Megham Karukatha (From \"Thiruchitrambalam\")",
         "Dhanush;Anirudh Ravichander",
         "Megham Karukatha (From \"Thiruchitrambalam\")",
         "pop-film"
        ],
        [
         "6GG73Jik4jUlQCkKg9JuGO",
         "The Middle",
         "Jimmy Eat World",
         "Bleed American",
         "power-pop"
        ],
        [
         "7ef4DlsgrMEH11cDZd32M6",
         "One Kiss (with Dua Lipa)",
         "Calvin Harris;Dua Lipa",
         "One Kiss (with Dua Lipa)",
         "progressive-house"
        ],
        [
         "6dGnYIeXmHdcikdzNNDMm2",
         "Here Comes The Sun - Remastered 2009",
         "The Beatles",
         "Abbey Road (Remastered)",
         "psych-rock"
        ],
        [
         "7EkWXAI1wn8Ii883ecd9xr",
         "Freaks",
         "Surf Curse",
         "Freaks",
         "punk"
        ],
        [
         "2m1hi0nfMR9vdGC8UcrnwU",
         "All The Small Things",
         "blink-182",
         "Enema Of The State",
         "punk-rock"
        ],
        [
         "75FEaRjZTKLhTrFGsfMUXR",
         "Running Up That Hill (A Deal With God)",
         "Kate Bush",
         "Hounds Of Love",
         "r-n-b"
        ],
        [
         "5ww2BF9slyYgNOk37BlC4u",
         "La Bachata",
         "Manuel Turizo",
         "La Bachata",
         "reggae"
        ],
        [
         "5ww2BF9slyYgNOk37BlC4u",
         "La Bachata",
         "Manuel Turizo",
         "La Bachata",
         "reggaeton"
        ],
        [
         "4h9wh7iOZ0GGn8QVp4RAOB",
         "I Ain't Worried",
         "OneRepublic",
         "I Ain’t Worried (Music From The Motion Picture \"Top Gun: Maverick\")",
         "rock"
        ],
        [
         "44AyOl4qVkzS48vBsbNXaC",
         "Can't Help Falling in Love",
         "Elvis Presley",
         "Blue Hawaii",
         "rock-n-roll"
        ],
        [
         "44AyOl4qVkzS48vBsbNXaC",
         "Can't Help Falling in Love",
         "Elvis Presley",
         "Blue Hawaii",
         "rockabilly"
        ],
        [
         "0h0dIAeZqoKwYjFNGvnRVV",
         "Случайный вальс",
         "Oleg Pogudin",
         "От моей негасимой любви... Песни военных лет",
         "romance"
        ],
        [
         "4VgM8bWHJVdsUfS416FJ2L",
         "weak lofi",
         "creamy;untrusted;11:11 Music Group",
         "weak lofi",
         "sad"
        ],
        [
         "6srBp90EwADKAF7PorGiUC",
         "Virgen",
         "Adolescent's Orquesta",
         "Ahora Más Que Nunca",
         "salsa"
        ],
        [
         "3898C4AbdbptwYet6547e5",
         "The Girl From Ipanema",
         "Stan Getz;João Gilberto;Astrud Gilberto",
         "The Girl From Ipanema - The Bossa Nova Years",
         "samba"
        ],
        [
         "2vvWv4e4PfXCUzsL9CuGzi",
         "Golaço (Ao Vivo)",
         "Turma do Pagode;Vou pro Sereno",
         "Turma no Quintal EP4 (Ao Vivo)",
         "sertanejo"
        ],
        [
         "0Gl5s8IhMmQE5YQwM8Qx1J",
         "Never Enough",
         "Loren Allred",
         "The Greatest Showman (Original Motion Picture Soundtrack)",
         "show-tunes"
        ],
        [
         "75FEaRjZTKLhTrFGsfMUXR",
         "Running Up That Hill (A Deal With God)",
         "Kate Bush",
         "Hounds Of Love",
         "singer-songwriter"
        ],
        [
         "6TfBA04WJ3X1d1wXhaCFVT",
         "You're Gonna Go Far, Kid",
         "The Offspring",
         "Rise And Fall, Rage And Grace",
         "ska"
        ],
        [
         "2bRKxuH1o7pTmb1y4GfdEc",
         "Clean White Noise - Loopable with no fade",
         "White Noise Baby Sleep;White Noise for Babies",
         "Best White Noise for Baby Sleep - Loopable with No Fade",
         "sleep"
        ],
        [
         "75FEaRjZTKLhTrFGsfMUXR",
         "Running Up That Hill (A Deal With God)",
         "Kate Bush",
         "Hounds Of Love",
         "songwriter"
        ],
        [
         "2TktkzfozZifbQhXjT6I33",
         "Evergreen (You Didn’t Deserve Me At All)",
         "Omar Apollo",
         "Ivory",
         "soul"
        ],
        [
         "3fjN3y5x4hN53rykAN2LHQ",
         "cómo dormiste?",
         "Rels B",
         "cómo dormiste?",
         "spanish"
        ],
        [
         "5p4CTFlVzdpsmO4YJyZH6N",
         "Inner Locket",
         "Wibke Komi",
         "Inner Locket",
         "study"
        ],
        [
         "0GjEhVFGZW8afUYGChu3Rr",
         "Dancing Queen",
         "ABBA",
         "Arrival",
         "swedish"
        ],
        [
         "4RvWPyQ5RL0ao9LPZeSouE",
         "Everybody Wants To Rule The World",
         "Tears For Fears",
         "Songs From The Big Chair (Super Deluxe Edition)",
         "synth-pop"
        ],
        [
         "1jSiCrX3a7ie9Okck6lL1R",
         "Por Una Cabeza",
         "Carlos Gardel",
         "The Very Best",
         "tango"
        ],
        [
         "6UpWvIIiycdBPMSjGJHNEg",
         "Prospect (feat. ÄTNA) (Carl Craig Late Island Mix)",
         "Solomun;ÄTNA;Carl Craig",
         "Nobody Is Not Loved, Remixes, Pt. 7",
         "techno"
        ],
        [
         "18asYwWugKjjsihZ0YvRxO",
         "The Motto",
         "Tiësto;Ava Max",
         "The Motto",
         "trance"
        ],
        [
         "5LbyynvLKEoD8gyenfauoi",
         "History",
         "Groove Armada",
         "Black Light",
         "trip-hop"
        ],
        [
         "10n66m41IGjA2ZulKPK7Ew",
         "Seni Dert Etmeler",
         "Madrigal",
         "Seni Dert Etmeler",
         "turkish"
        ],
        [
         "0rH0mprtecH3grD9HFM5AD",
         "Reckless Love",
         "Cory Asbury",
         "Reckless Love",
         "world-music"
        ]
       ],
       "datasetInfos": [],
       "dbfsResultPath": null,
       "isJsonSchema": true,
       "metadata": {},
       "overflow": false,
       "plotOptions": {
        "customPlotOptions": {},
        "displayType": "table",
        "pivotAggregation": null,
        "pivotColumns": null,
        "xColumns": null,
        "yColumns": null
       },
       "removedWidgets": [],
       "schema": [
        {
         "metadata": "{}",
         "name": "track_id",
         "type": "\"string\""
        },
        {
         "metadata": "{}",
         "name": "track_name",
         "type": "\"string\""
        },
        {
         "metadata": "{}",
         "name": "artists",
         "type": "\"string\""
        },
        {
         "metadata": "{}",
         "name": "album_name",
         "type": "\"string\""
        },
        {
         "metadata": "{}",
         "name": "track_genre",
         "type": "\"string\""
        }
       ],
       "type": "table"
      }
     },
     "output_type": "display_data"
    }
   ],
   "source": [
    "\n",
    "# Define the Spark SQL query\n",
    "query = \"\"\" SELECT track_id,track_name,artists,album_name,track_genre FROM (SELECT *,ROW_NUMBER() OVER (PARTITION BY track_genre ORDER BY popularity DESC) as rank FROM default.spotify) ranked WHERE ranked.rank = 1 \"\"\"\n",
    "\n",
    "# Execute the SQL query\n",
    "top_songs_per_genre = spark.sql(query)\n",
    "\n",
    "# Show details of top songs per genre\n",
    "top_songs_per_genre.display()"
   ]
  },
  {
   "cell_type": "markdown",
   "metadata": {
    "application/vnd.databricks.v1+cell": {
     "cellMetadata": {
      "byteLimit": 2048000,
      "rowLimit": 10000
     },
     "inputWidgets": {},
     "nuid": "9721d77b-e7be-4a45-8c2e-8fa164018982",
     "showTitle": false,
     "title": ""
    }
   },
   "source": [
    "## Top 10 Artists with the highest average popularity"
   ]
  },
  {
   "cell_type": "code",
   "execution_count": 0,
   "metadata": {
    "application/vnd.databricks.v1+cell": {
     "cellMetadata": {
      "byteLimit": 2048000,
      "rowLimit": 10000
     },
     "inputWidgets": {},
     "nuid": "0f5804aa-a2a4-42fb-aa20-b409c092a8e0",
     "showTitle": false,
     "title": ""
    }
   },
   "outputs": [
    {
     "output_type": "display_data",
     "data": {
      "text/html": [
       "<style scoped>\n",
       "  .table-result-container {\n",
       "    max-height: 300px;\n",
       "    overflow: auto;\n",
       "  }\n",
       "  table, th, td {\n",
       "    border: 1px solid black;\n",
       "    border-collapse: collapse;\n",
       "  }\n",
       "  th, td {\n",
       "    padding: 5px;\n",
       "  }\n",
       "  th {\n",
       "    text-align: left;\n",
       "  }\n",
       "</style><div class='table-result-container'><table class='table-result'><thead style='background-color: white'><tr><th>artists</th><th>avg_popularity</th></tr></thead><tbody><tr><td>Sam Smith;Kim Petras</td><td>100.0</td></tr><tr><td>Bizarrap;Quevedo</td><td>99.0</td></tr><tr><td>Manuel Turizo</td><td>98.0</td></tr><tr><td>Bad Bunny;Chencho Corleone</td><td>97.0</td></tr><tr><td>Bad Bunny;Bomba Estéreo</td><td>94.5</td></tr><tr><td>Joji</td><td>94.0</td></tr><tr><td>Beyoncé</td><td>93.0</td></tr><tr><td>Rema;Selena Gomez</td><td>92.0</td></tr><tr><td>Harry Styles</td><td>92.0</td></tr><tr><td>Drake;21 Savage</td><td>91.0</td></tr></tbody></table></div>"
      ]
     },
     "metadata": {
      "application/vnd.databricks.v1+output": {
       "addedWidgets": {},
       "aggData": [],
       "aggError": "",
       "aggOverflow": false,
       "aggSchema": [],
       "aggSeriesLimitReached": false,
       "aggType": "",
       "arguments": {},
       "columnCustomDisplayInfos": {},
       "data": [
        [
         "Sam Smith;Kim Petras",
         100.0
        ],
        [
         "Bizarrap;Quevedo",
         99.0
        ],
        [
         "Manuel Turizo",
         98.0
        ],
        [
         "Bad Bunny;Chencho Corleone",
         97.0
        ],
        [
         "Bad Bunny;Bomba Estéreo",
         94.5
        ],
        [
         "Joji",
         94.0
        ],
        [
         "Beyoncé",
         93.0
        ],
        [
         "Rema;Selena Gomez",
         92.0
        ],
        [
         "Harry Styles",
         92.0
        ],
        [
         "Drake;21 Savage",
         91.0
        ]
       ],
       "datasetInfos": [],
       "dbfsResultPath": null,
       "isJsonSchema": true,
       "metadata": {},
       "overflow": false,
       "plotOptions": {
        "customPlotOptions": {},
        "displayType": "table",
        "pivotAggregation": null,
        "pivotColumns": null,
        "xColumns": null,
        "yColumns": null
       },
       "removedWidgets": [],
       "schema": [
        {
         "metadata": "{}",
         "name": "artists",
         "type": "\"string\""
        },
        {
         "metadata": "{}",
         "name": "avg_popularity",
         "type": "\"double\""
        }
       ],
       "type": "table"
      }
     },
     "output_type": "display_data"
    }
   ],
   "source": [
    "\n",
    "# Spotify DataFrame\n",
    "spotify_df = spark.sql(\"SELECT * FROM default.spotify\")\n",
    "\n",
    "# Group by artist and calculate average popularity score\n",
    "artist_popularity = spotify_df.groupBy(\"artists\").agg(func.avg(\"popularity\").alias(\"avg_popularity\"))\n",
    "\n",
    "# Find top 10 artists by average popularity score\n",
    "top_10_artists = artist_popularity.orderBy(func.desc(\"avg_popularity\")).limit(10)\n",
    "\n",
    "# Show top 10 artists\n",
    "top_10_artists.display()"
   ]
  },
  {
   "cell_type": "markdown",
   "metadata": {
    "application/vnd.databricks.v1+cell": {
     "cellMetadata": {
      "byteLimit": 2048000,
      "rowLimit": 10000
     },
     "inputWidgets": {},
     "nuid": "394e0c4a-3166-4bfd-a954-7a6d6dc7595f",
     "showTitle": false,
     "title": ""
    }
   },
   "source": [
    "## Top 5 Albums with most no of songs and having highest average probability score"
   ]
  },
  {
   "cell_type": "code",
   "execution_count": 0,
   "metadata": {
    "application/vnd.databricks.v1+cell": {
     "cellMetadata": {
      "byteLimit": 2048000,
      "rowLimit": 10000
     },
     "inputWidgets": {},
     "nuid": "072e7c22-be76-42cc-9e86-42fc2dc05393",
     "showTitle": false,
     "title": ""
    }
   },
   "outputs": [
    {
     "output_type": "display_data",
     "data": {
      "text/html": [
       "<style scoped>\n",
       "  .table-result-container {\n",
       "    max-height: 300px;\n",
       "    overflow: auto;\n",
       "  }\n",
       "  table, th, td {\n",
       "    border: 1px solid black;\n",
       "    border-collapse: collapse;\n",
       "  }\n",
       "  th, td {\n",
       "    padding: 5px;\n",
       "  }\n",
       "  th {\n",
       "    text-align: left;\n",
       "  }\n",
       "</style><div class='table-result-container'><table class='table-result'><thead style='background-color: white'><tr><th>album_name</th><th>song_count</th><th>avg_popularity</th></tr></thead><tbody><tr><td>Alternative Christmas 2022</td><td>195</td><td>0.0</td></tr><tr><td>Feliz Cumpleaños con Perreo</td><td>184</td><td>1.9130434782608696</td></tr><tr><td>Metal</td><td>143</td><td>0.0</td></tr><tr><td>Halloween con perreito</td><td>123</td><td>0.0</td></tr><tr><td>Halloween Party 2022</td><td>115</td><td>0.33043478260869563</td></tr></tbody></table></div>"
      ]
     },
     "metadata": {
      "application/vnd.databricks.v1+output": {
       "addedWidgets": {},
       "aggData": [],
       "aggError": "",
       "aggOverflow": false,
       "aggSchema": [],
       "aggSeriesLimitReached": false,
       "aggType": "",
       "arguments": {},
       "columnCustomDisplayInfos": {},
       "data": [
        [
         "Alternative Christmas 2022",
         195,
         0.0
        ],
        [
         "Feliz Cumpleaños con Perreo",
         184,
         1.9130434782608696
        ],
        [
         "Metal",
         143,
         0.0
        ],
        [
         "Halloween con perreito",
         123,
         0.0
        ],
        [
         "Halloween Party 2022",
         115,
         0.33043478260869563
        ]
       ],
       "datasetInfos": [],
       "dbfsResultPath": null,
       "isJsonSchema": true,
       "metadata": {},
       "overflow": false,
       "plotOptions": {
        "customPlotOptions": {},
        "displayType": "table",
        "pivotAggregation": null,
        "pivotColumns": null,
        "xColumns": null,
        "yColumns": null
       },
       "removedWidgets": [],
       "schema": [
        {
         "metadata": "{}",
         "name": "album_name",
         "type": "\"string\""
        },
        {
         "metadata": "{}",
         "name": "song_count",
         "type": "\"long\""
        },
        {
         "metadata": "{}",
         "name": "avg_popularity",
         "type": "\"double\""
        }
       ],
       "type": "table"
      }
     },
     "output_type": "display_data"
    }
   ],
   "source": [
    "# Group by album, count songs and calculate average popularity score\n",
    "album_stats = spotify_df.groupBy(\"album_name\").agg(\n",
    "    func.count(\"track_id\").alias(\"song_count\"),\n",
    "    func.avg(\"popularity\").alias(\"avg_popularity\")\n",
    ")\n",
    "\n",
    "# Find top 5 albums by song count and average popularity\n",
    "top_5_albums = album_stats.orderBy(\n",
    "    func.desc(\"song_count\"), func.desc(\"avg_popularity\")\n",
    ").limit(5)\n",
    "\n",
    "# Show top 5 albums\n",
    "top_5_albums.display()"
   ]
  },
  {
   "cell_type": "markdown",
   "metadata": {
    "application/vnd.databricks.v1+cell": {
     "cellMetadata": {
      "byteLimit": 2048000,
      "rowLimit": 10000
     },
     "inputWidgets": {},
     "nuid": "29cd2c1c-69f3-4588-ae58-08a987a30c0b",
     "showTitle": false,
     "title": ""
    }
   },
   "source": [
    "## Top Genre with the highest average popularity"
   ]
  },
  {
   "cell_type": "code",
   "execution_count": 0,
   "metadata": {
    "application/vnd.databricks.v1+cell": {
     "cellMetadata": {
      "byteLimit": 2048000,
      "rowLimit": 10000
     },
     "inputWidgets": {},
     "nuid": "bd204ed7-186c-46af-b6f6-de86e67ca578",
     "showTitle": false,
     "title": ""
    }
   },
   "outputs": [
    {
     "output_type": "display_data",
     "data": {
      "text/html": [
       "<style scoped>\n",
       "  .table-result-container {\n",
       "    max-height: 300px;\n",
       "    overflow: auto;\n",
       "  }\n",
       "  table, th, td {\n",
       "    border: 1px solid black;\n",
       "    border-collapse: collapse;\n",
       "  }\n",
       "  th, td {\n",
       "    padding: 5px;\n",
       "  }\n",
       "  th {\n",
       "    text-align: left;\n",
       "  }\n",
       "</style><div class='table-result-container'><table class='table-result'><thead style='background-color: white'><tr><th>track_genre</th><th>avg_popularity</th></tr></thead><tbody><tr><td>pop-film</td><td>59.283</td></tr><tr><td>k-pop</td><td>56.896</td></tr><tr><td>chill</td><td>53.651</td></tr><tr><td>sad</td><td>52.379</td></tr><tr><td>grunge</td><td>49.594</td></tr></tbody></table></div>"
      ]
     },
     "metadata": {
      "application/vnd.databricks.v1+output": {
       "addedWidgets": {},
       "aggData": [],
       "aggError": "",
       "aggOverflow": false,
       "aggSchema": [],
       "aggSeriesLimitReached": false,
       "aggType": "",
       "arguments": {},
       "columnCustomDisplayInfos": {},
       "data": [
        [
         "pop-film",
         59.283
        ],
        [
         "k-pop",
         56.896
        ],
        [
         "chill",
         53.651
        ],
        [
         "sad",
         52.379
        ],
        [
         "grunge",
         49.594
        ]
       ],
       "datasetInfos": [],
       "dbfsResultPath": null,
       "isJsonSchema": true,
       "metadata": {},
       "overflow": false,
       "plotOptions": {
        "customPlotOptions": {},
        "displayType": "table",
        "pivotAggregation": null,
        "pivotColumns": null,
        "xColumns": null,
        "yColumns": null
       },
       "removedWidgets": [],
       "schema": [
        {
         "metadata": "{}",
         "name": "track_genre",
         "type": "\"string\""
        },
        {
         "metadata": "{}",
         "name": "avg_popularity",
         "type": "\"double\""
        }
       ],
       "type": "table"
      }
     },
     "output_type": "display_data"
    }
   ],
   "source": [
    "# Group by genre and calculate average popularity score\n",
    "genre_popularity = spotify_df.groupBy(\"track_genre\").agg(func.avg(\"popularity\").alias(\"avg_popularity\"))\n",
    "\n",
    "# Find top 5 genre by average popularity score\n",
    "top_5_genre = genre_popularity.orderBy(func.desc(\"avg_popularity\")).limit(5)\n",
    "\n",
    "# Show top 5 genre\n",
    "top_5_genre.display()"
   ]
  },
  {
   "cell_type": "markdown",
   "metadata": {
    "application/vnd.databricks.v1+cell": {
     "cellMetadata": {
      "byteLimit": 2048000,
      "rowLimit": 10000
     },
     "inputWidgets": {},
     "nuid": "fcf9662d-c638-44dd-a11e-20d66c0269b4",
     "showTitle": false,
     "title": ""
    }
   },
   "source": [
    "## Top 10 Tracks with the highest energy & popularity score "
   ]
  },
  {
   "cell_type": "code",
   "execution_count": 0,
   "metadata": {
    "application/vnd.databricks.v1+cell": {
     "cellMetadata": {
      "byteLimit": 2048000,
      "rowLimit": 10000
     },
     "inputWidgets": {},
     "nuid": "7509d15f-1c91-4bf9-b428-42a52968de8d",
     "showTitle": false,
     "title": ""
    }
   },
   "outputs": [
    {
     "output_type": "display_data",
     "data": {
      "text/html": [
       "<style scoped>\n",
       "  .table-result-container {\n",
       "    max-height: 300px;\n",
       "    overflow: auto;\n",
       "  }\n",
       "  table, th, td {\n",
       "    border: 1px solid black;\n",
       "    border-collapse: collapse;\n",
       "  }\n",
       "  th, td {\n",
       "    padding: 5px;\n",
       "  }\n",
       "  th {\n",
       "    text-align: left;\n",
       "  }\n",
       "</style><div class='table-result-container'><table class='table-result'><thead style='background-color: white'><tr><th>id</th><th>track_id</th><th>artists</th><th>album_name</th><th>track_name</th><th>popularity</th><th>duration_ms</th><th>explicit</th><th>danceability</th><th>energy</th><th>key</th><th>loudness</th><th>mode</th><th>speechiness</th><th>acousticness</th><th>instrumentalness</th><th>liveness</th><th>valence</th><th>tempo</th><th>time_signature</th><th>track_genre</th></tr></thead><tbody><tr><td>20008</td><td>4uUG5RXrOk84mYEfFvj3cK</td><td>David Guetta;Bebe Rexha</td><td>I'm Good (Blue)</td><td>I'm Good (Blue)</td><td>98</td><td>175238</td><td>True</td><td>0.561</td><td>0.965</td><td>7</td><td>-3.673</td><td>0</td><td>0.0343</td><td>0.00383</td><td>7.07e-06</td><td>0.371</td><td>0.304</td><td>128.04</td><td>4</td><td>dance</td></tr><tr><td>65053</td><td>2gYj9lubBorOPIVWsTXugG</td><td>IVE</td><td>After LIKE</td><td>After LIKE</td><td>88</td><td>176973</td><td>False</td><td>0.68</td><td>0.922</td><td>0</td><td>-1.215</td><td>1</td><td>0.121</td><td>0.103</td><td>0.0</td><td>0.0877</td><td>0.799</td><td>125.014</td><td>4</td><td>k-pop</td></tr><tr><td>2106</td><td>003vvx7Niy0yvhvHt4a68B</td><td>The Killers</td><td>Hot Fuss</td><td>Mr. Brightside</td><td>86</td><td>222973</td><td>False</td><td>0.352</td><td>0.911</td><td>1</td><td>-5.23</td><td>1</td><td>0.0747</td><td>0.00121</td><td>0.0</td><td>0.0995</td><td>0.236</td><td>148.033</td><td>4</td><td>alt-rock</td></tr><tr><td>65056</td><td>0RDqNCRBGrSegk16Avfzuq</td><td>TWICE</td><td>BETWEEN 1&2</td><td>Talk that Talk</td><td>86</td><td>177466</td><td>False</td><td>0.772</td><td>0.907</td><td>3</td><td>-2.438</td><td>0</td><td>0.124</td><td>0.136</td><td>0.0</td><td>0.334</td><td>0.783</td><td>119.973</td><td>4</td><td>k-pop</td></tr><tr><td>56051</td><td>7EkWXAI1wn8Ii883ecd9xr</td><td>Surf Curse</td><td>Freaks</td><td>Freaks</td><td>86</td><td>147062</td><td>False</td><td>0.345</td><td>0.941</td><td>9</td><td>-9.918</td><td>1</td><td>0.0466</td><td>3.84e-05</td><td>0.633</td><td>0.0511</td><td>0.407</td><td>179.626</td><td>4</td><td>indie-pop</td></tr></tbody></table></div>"
      ]
     },
     "metadata": {
      "application/vnd.databricks.v1+output": {
       "addedWidgets": {},
       "aggData": [],
       "aggError": "",
       "aggOverflow": false,
       "aggSchema": [],
       "aggSeriesLimitReached": false,
       "aggType": "",
       "arguments": {},
       "columnCustomDisplayInfos": {},
       "data": [
        [
         "20008",
         "4uUG5RXrOk84mYEfFvj3cK",
         "David Guetta;Bebe Rexha",
         "I'm Good (Blue)",
         "I'm Good (Blue)",
         "98",
         "175238",
         "True",
         "0.561",
         "0.965",
         "7",
         "-3.673",
         "0",
         "0.0343",
         "0.00383",
         "7.07e-06",
         "0.371",
         "0.304",
         "128.04",
         "4",
         "dance"
        ],
        [
         "65053",
         "2gYj9lubBorOPIVWsTXugG",
         "IVE",
         "After LIKE",
         "After LIKE",
         "88",
         "176973",
         "False",
         "0.68",
         "0.922",
         "0",
         "-1.215",
         "1",
         "0.121",
         "0.103",
         "0.0",
         "0.0877",
         "0.799",
         "125.014",
         "4",
         "k-pop"
        ],
        [
         "2106",
         "003vvx7Niy0yvhvHt4a68B",
         "The Killers",
         "Hot Fuss",
         "Mr. Brightside",
         "86",
         "222973",
         "False",
         "0.352",
         "0.911",
         "1",
         "-5.23",
         "1",
         "0.0747",
         "0.00121",
         "0.0",
         "0.0995",
         "0.236",
         "148.033",
         "4",
         "alt-rock"
        ],
        [
         "65056",
         "0RDqNCRBGrSegk16Avfzuq",
         "TWICE",
         "BETWEEN 1&2",
         "Talk that Talk",
         "86",
         "177466",
         "False",
         "0.772",
         "0.907",
         "3",
         "-2.438",
         "0",
         "0.124",
         "0.136",
         "0.0",
         "0.334",
         "0.783",
         "119.973",
         "4",
         "k-pop"
        ],
        [
         "56051",
         "7EkWXAI1wn8Ii883ecd9xr",
         "Surf Curse",
         "Freaks",
         "Freaks",
         "86",
         "147062",
         "False",
         "0.345",
         "0.941",
         "9",
         "-9.918",
         "1",
         "0.0466",
         "3.84e-05",
         "0.633",
         "0.0511",
         "0.407",
         "179.626",
         "4",
         "indie-pop"
        ]
       ],
       "datasetInfos": [],
       "dbfsResultPath": null,
       "isJsonSchema": true,
       "metadata": {},
       "overflow": false,
       "plotOptions": {
        "customPlotOptions": {},
        "displayType": "table",
        "pivotAggregation": null,
        "pivotColumns": null,
        "xColumns": null,
        "yColumns": null
       },
       "removedWidgets": [],
       "schema": [
        {
         "metadata": "{}",
         "name": "id",
         "type": "\"string\""
        },
        {
         "metadata": "{}",
         "name": "track_id",
         "type": "\"string\""
        },
        {
         "metadata": "{}",
         "name": "artists",
         "type": "\"string\""
        },
        {
         "metadata": "{}",
         "name": "album_name",
         "type": "\"string\""
        },
        {
         "metadata": "{}",
         "name": "track_name",
         "type": "\"string\""
        },
        {
         "metadata": "{}",
         "name": "popularity",
         "type": "\"string\""
        },
        {
         "metadata": "{}",
         "name": "duration_ms",
         "type": "\"string\""
        },
        {
         "metadata": "{}",
         "name": "explicit",
         "type": "\"string\""
        },
        {
         "metadata": "{}",
         "name": "danceability",
         "type": "\"string\""
        },
        {
         "metadata": "{}",
         "name": "energy",
         "type": "\"string\""
        },
        {
         "metadata": "{}",
         "name": "key",
         "type": "\"string\""
        },
        {
         "metadata": "{}",
         "name": "loudness",
         "type": "\"string\""
        },
        {
         "metadata": "{}",
         "name": "mode",
         "type": "\"string\""
        },
        {
         "metadata": "{}",
         "name": "speechiness",
         "type": "\"string\""
        },
        {
         "metadata": "{}",
         "name": "acousticness",
         "type": "\"string\""
        },
        {
         "metadata": "{}",
         "name": "instrumentalness",
         "type": "\"string\""
        },
        {
         "metadata": "{}",
         "name": "liveness",
         "type": "\"string\""
        },
        {
         "metadata": "{}",
         "name": "valence",
         "type": "\"string\""
        },
        {
         "metadata": "{}",
         "name": "tempo",
         "type": "\"string\""
        },
        {
         "metadata": "{}",
         "name": "time_signature",
         "type": "\"string\""
        },
        {
         "metadata": "{}",
         "name": "track_genre",
         "type": "\"string\""
        }
       ],
       "type": "table"
      }
     },
     "output_type": "display_data"
    }
   ],
   "source": [
    "# Filter songs with high energy and high-popularity (adjust threshold as per our need)\n",
    "high_energy_high_popularity = spotify_df.filter((func.col(\"energy\") > 0.9) & (func.col(\"popularity\") > 85))\n",
    "\n",
    "# Select distinct songs among high-energy, high-popularity songs\n",
    "distinct_high_energy_high_popularity = high_energy_high_popularity.dropDuplicates(subset=['track_id']).orderBy(func.desc(\"popularity\"))\n",
    "\n",
    "# Top 5 distinct songs\n",
    "top_5_distinct_songs = distinct_high_energy_high_popularity.limit(5)\n",
    "\n",
    "# Display top 10 distinct songs with high energy and high popularity\n",
    "top_5_distinct_songs.display()"
   ]
  },
  {
   "cell_type": "markdown",
   "metadata": {
    "application/vnd.databricks.v1+cell": {
     "cellMetadata": {},
     "inputWidgets": {},
     "nuid": "9b70cb00-cf0b-49ed-9b43-513723a2c754",
     "showTitle": false,
     "title": ""
    }
   },
   "source": [
    "### GITHUB URL\n",
    "- https://github.com/sinvin-dse/spotify/blob/main/OLTP-Queries.mp4"
   ]
  }
 ],
 "metadata": {
  "application/vnd.databricks.v1+notebook": {
   "dashboards": [],
   "language": "python",
   "notebookMetadata": {
    "pythonIndentUnit": 4
   },
   "notebookName": "Spotify : OLAP Analytics",
   "widgets": {}
  }
 },
 "nbformat": 4,
 "nbformat_minor": 0
}
